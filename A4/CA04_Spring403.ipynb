{
  "cells": [
    {
      "cell_type": "markdown",
      "metadata": {},
      "source": [
        "# AI_Assignment #4\n",
        "## Machine Learning\n",
        "### Mohammad Javad Pesarakloo, SID = 810100103 "
      ]
    },
    {
      "cell_type": "code",
      "execution_count": null,
      "metadata": {},
      "outputs": [],
      "source": [
        "import numpy as np\n",
        "import pandas as pd\n",
        "import matplotlib.pyplot as plt\n",
        "import seaborn as sns"
      ]
    },
    {
      "cell_type": "markdown",
      "metadata": {},
      "source": [
        "# EDA\n",
        "At first, lets load the dataset as a pandas dataframe:"
      ]
    },
    {
      "cell_type": "code",
      "execution_count": null,
      "metadata": {},
      "outputs": [],
      "source": [
        "df = pd.read_excel('DataSet.xlsx')\n",
        "df.head()"
      ]
    },
    {
      "cell_type": "code",
      "execution_count": null,
      "metadata": {},
      "outputs": [],
      "source": [
        "df.info()\n",
        "df.describe()"
      ]
    },
    {
      "cell_type": "markdown",
      "metadata": {},
      "source": [
        "Now that we have an overall view of the data, lets find missing datas"
      ]
    },
    {
      "cell_type": "code",
      "execution_count": null,
      "metadata": {},
      "outputs": [],
      "source": [
        "df.isna().sum(axis=0)"
      ]
    },
    {
      "cell_type": "markdown",
      "metadata": {},
      "source": [
        "As we see, we have several missing items in our dataset.Now lets visualize unique values of each coloumn:"
      ]
    },
    {
      "cell_type": "code",
      "execution_count": null,
      "metadata": {},
      "outputs": [],
      "source": [
        "values = {x:np.unique(df[x].to_numpy()) for x in df.columns.tolist()}\n",
        "uniqeVals = [len(values[key]) for key in values.keys()]\n",
        "plt.figure(figsize=(10, 6))\n",
        "plt.plot(values.keys(), uniqeVals, color='red')\n",
        "plt.title(\"numberOfUniqueVals\")\n",
        "plt.grid()\n",
        "plt.xlabel(\"feature\")\n",
        "plt.ylabel(\"count\")"
      ]
    },
    {
      "cell_type": "code",
      "execution_count": null,
      "metadata": {},
      "outputs": [],
      "source": [
        "correlationMatrix = df.corr()\n",
        "plt.figure(figsize=(10, 6))\n",
        "sns.heatmap(correlationMatrix, annot=True, cmap='coolwarm')"
      ]
    },
    {
      "cell_type": "markdown",
      "metadata": {},
      "source": [
        "In the above heatMap, we have correlation matrix of the dataframe in which the warmer the color, the more the correlated the features are.For example we can see that the feature **RM** is mostly correlated with the target variable"
      ]
    },
    {
      "cell_type": "code",
      "execution_count": null,
      "metadata": {},
      "outputs": [],
      "source": [
        "for feature in df.columns[0:-1]:\n",
        "    plt.figure()\n",
        "    plt.scatter(df[feature], df.iloc[:, -1])\n",
        "    plt.title(feature)\n",
        "    plt.grid()\n",
        "    plt.xlabel(feature)\n",
        "    plt.ylabel(\"MEDV\")"
      ]
    },
    {
      "cell_type": "markdown",
      "metadata": {},
      "source": [
        "In the above scatter plots, we can see the relation of a feature and target variable.For example feature **LSTAT** looks more like a line than other features and can be used for linear regression.A **hexbin** plot is a type of data visualization that displays the frequency of occurrences within a dataset in a two-dimensional space. It’s particularly useful for managing and representing large datasets with overlapping points where a scatter plot would be less effective due to overplotting.Lets visualize hexbin plot of the dataset."
      ]
    },
    {
      "cell_type": "code",
      "execution_count": null,
      "metadata": {},
      "outputs": [],
      "source": [
        "for feature in df.columns[0:-1]:\n",
        "    plt.figure()\n",
        "    plt.hexbin(df[feature], df.iloc[:, -1], gridsize=20)\n",
        "    plt.title(feature)\n",
        "    plt.grid()\n",
        "    plt.xlabel(feature)\n",
        "    plt.ylabel(\"MEDV\")"
      ]
    },
    {
      "cell_type": "markdown",
      "metadata": {},
      "source": [
        "Another metric we can use to visualize data is the **histogram** of features.plotting histogram, we can see the shape of it's pdf and see which features looks more like the target variable:"
      ]
    },
    {
      "cell_type": "code",
      "execution_count": null,
      "metadata": {},
      "outputs": [],
      "source": [
        "fig, axes = plt.subplots(2, 13, figsize=(30, 9))\n",
        "for j, feature_ in enumerate(df.columns[0:-1]):\n",
        "    sns.histplot(df[feature_], ax= axes[0, j], kde = True)\n",
        "    sns.histplot(df.iloc[:, -1], ax= axes[1, j], kde = True)\n",
        "plt.tight_layout()\n",
        "plt.show()"
      ]
    },
    {
      "cell_type": "markdown",
      "metadata": {},
      "source": [
        "from the above histplot, we can see that **Lstat** looks more like the target variable"
      ]
    },
    {
      "cell_type": "markdown",
      "metadata": {},
      "source": [
        "# Preprocessing\n",
        "One of the most important steps in a machine learning project is the preprocessing step through which we change the format of train data to make it more adaptive for our model.lets explore different phases of preprocessing.\n",
        "## Handling missing values\n",
        "In each dataset, some items might be unvailable.There are different methods that can be used in different cases;The method we use totally depends on the format of the dataset.For example when number of missing values is very low, we can easily ommit that row of data;but when it is high, which is usually the case, we should apply some other methods.Here are three methods of handling missing values:\n",
        "### 1-Removing the sample\n",
        "Suppose we have a sample with 10 features, 7 of which are not available, we can remove this samples because most of its features are not available."
      ]
    },
    {
      "cell_type": "code",
      "execution_count": null,
      "metadata": {},
      "outputs": [],
      "source": [
        "max(df.isna().sum(axis=1))"
      ]
    },
    {
      "cell_type": "markdown",
      "metadata": {},
      "source": [
        "As we see, in our dataset in each row, we have at most two missing values;thus it is not wise to romove any sample and we should use other methods.\n",
        "### 2-Replacing the missing item with mean\n",
        "Suppose the feature X is not available in some rows, we can easily replace this item with the mean value of availbe Xs:"
      ]
    },
    {
      "cell_type": "code",
      "execution_count": null,
      "metadata": {},
      "outputs": [],
      "source": [
        "df.fillna(df.mean(), inplace=True)"
      ]
    },
    {
      "cell_type": "code",
      "execution_count": null,
      "metadata": {},
      "outputs": [],
      "source": [
        "df.isna().sum().sum()"
      ]
    },
    {
      "cell_type": "markdown",
      "metadata": {},
      "source": [
        "### 3-Replacing with median\n",
        "This method is exactly the same as the above method but instead of mean, we are using median\n",
        "\n",
        "Features in each dataset can be either **numerical** or **categorical**.The difference is that numercial features can have any continous values while categorial features are discrete.From the scatter plot, we can see that the feature **CHAS** is categorical while others are numerical.\n",
        "\n",
        "## Standardizing and Normalizing\n",
        "Normalizing and standardizing are two common techniques used in preprocessing data in machine learning to improve the performance of machine learning models.\n",
        "### 1-Normalizing\n",
        "Normalizing is the process of scaling the numerical features of a dataset to a standard range, typically between 0 and 1. This is done by subtracting the minimum value of the feature and dividing by the range (maximum value - minimum value). Normalizing ensures that all features have the same scale, which can help the model converge faster and avoid bias towards features with larger scales.\n",
        "$$\n",
        "    n = \\frac{x - l}{m - l}\n",
        "$$\n",
        "### 2-Standardizing\n",
        "Standardizing is the process of transforming the numerical features of a dataset to have a mean of 0 and a standard deviation of 1. This is done by subtracting the mean of the feature and dividing by the standard deviation. Standardizing ensures that the features have a similar distribution, which can help improve the performance of models that are sensitive to the scale of the features, such as linear models and neural networks.\n",
        "$$\n",
        "    n = \\mathcal{N}(\\frac{x - \\mu}{\\sigma^2})\n",
        "$$\n",
        "\n",
        "These methods are definitely required in this project because if not applied, our model will be biased to features which have greater scale than others despite having any priority to them.\n",
        "\n",
        "\n",
        "We should note that not always our datas are numerical, sometimes we might have **String** or **objects**.There are several preprocessings that should be done on this kind of data:\n",
        "* Label encoding or one-hot encoding: Convert categorical string data into numerical format using label encoding or one-hot encoding.\n",
        "* Text processing: Convert textual data into numerical format using techniques such as tokenization, stemming, and lemmatization.\n",
        "* Handling outliers: Identify and handle outliers in the string or object data.\n",
        "* Feature scaling: Scale the string or object data to bring all the features to a similar scale.\n",
        "\n",
        "before we train our model, we need to divide them into three categories:\n",
        "* **Train Data** : This is the data which we fit our model to it\n",
        "* **Validation Data** : Every model has some hyperparameters.For example in KNN classifier, the value of K is a parameter that should be adjusted.Using the validation data, we find the optimal hyperparameters that minimize the summation of **bias** and **variance** error\n",
        "* **Test Data** : After finding the optimal hyperparamters and training the model, we can evaluate our model using the test data which is not seen by the model previously.\n",
        "\n",
        "\n",
        "There are several other methods of preprocessing like omitting noise, dimensionality reduction, etc."
      ]
    },
    {
      "cell_type": "markdown",
      "metadata": {
        "id": "D6o5N2vfjkAN"
      },
      "source": [
        "# Regression\n",
        "In this project, we are training supervised models.The difference between supervised learning and unsupervised learning is that in supervised learning, we know the exact label of the train data.But in unsupervised learning our main goal is to find patterns and similarities in our data.\n",
        "One of the most applicable and general frameworks of supervised learning is **Regression**.In regression unlike classification, the output of the model can be any continous number.Given some datavectors and their target value, we learn some weights from the data to predict any query in our feature space.First lets explore linear regression.\n",
        "## Linear Regression\n",
        "In linear regression, our aim is to fit a line to the feature space.To do so, we first need to define a loss function for our model and then try to minimize that.One of the most popular loss functions in linear regression is sum of squared errors which we try to minimize in the following equations:"
      ]
    },
    {
      "cell_type": "markdown",
      "metadata": {
        "id": "uOZ_t3DjjnQz"
      },
      "source": [
        "Main form of simple linear regression function:\n",
        "$$f(x) = \\alpha x + \\beta$$\n",
        "\n",
        "here we want to find the bias ($\\alpha$) and slope($\\beta$) by minimizing the derivation of the Residual Sum of Squares (RSS) function:\n",
        "\n",
        "- step 1: Compute RSS of the training data  \n",
        "\n",
        "$$ RSS = \\Sigma (y_i - (\\hat{\\beta} + \\hat{\\alpha} * x_i) )^2 $$\n",
        "\n",
        "- step 2: Compute the derivatives of the RSS function in terms of $\\alpha$ and $\\beta$, and set them equal to 0 to find the desired parameters\n",
        "\n",
        "$$ \\frac{\\partial RSS}{\\partial \\beta} = \\Sigma (-f(x_i) + \\hat{\\beta} + \\hat{\\alpha} * x_i) = 0$$\n",
        "$$ \\to \\beta = \\hat{y} - \\hat{\\alpha} \\hat{x} \\to (1)$$\n",
        "\n",
        "\n",
        "$$ \\frac{\\partial RSS}{\\partial \\alpha} = \\Sigma (-2 x_i y_i + 2 \\hat{\\beta} x_i + 2\\hat{\\alpha} x_i ^ 2) = 0 \\to (2)$$\n",
        "\n",
        "$$ (1) , (2) \\to \\hat{\\alpha} = \\frac{\\Sigma{(x_i - \\hat{x})(y_i - \\hat{y})}}{\\Sigma{(x_i - \\hat{x})^2}}\n",
        "$$\n",
        "$$ \\hat{\\beta} = y - \\hat{a} x$$\n",
        "\n"
      ]
    },
    {
      "cell_type": "markdown",
      "metadata": {
        "id": "PosEWpa7j1Z8"
      },
      "source": [
        "Based on the above formula, implement the function below to compute the parameters of a simple linear regression"
      ]
    },
    {
      "cell_type": "code",
      "execution_count": null,
      "metadata": {
        "id": "tgq8tHPXjkkk"
      },
      "outputs": [],
      "source": [
        "def linear_regression(input, output):\n",
        "  alpha = (np.sum((input - np.mean(input))*(output - np.mean(output)))) / (np.sum(np.power(input - np.mean(input), 2)))\n",
        "  beta = np.mean(output) - alpha*np.mean(input)\n",
        "  return [alpha, beta]"
      ]
    },
    {
      "cell_type": "markdown",
      "metadata": {
        "id": "CL5v360zklZ7"
      },
      "source": [
        "Now complete this `get_regression_predictions(...)` function to predict the value of given data based on the calculated intercept and slope"
      ]
    },
    {
      "cell_type": "code",
      "execution_count": null,
      "metadata": {
        "id": "2cq1rghRkhKs"
      },
      "outputs": [],
      "source": [
        "def get_regression_predictions(input, intercept, slope):\n",
        "    return input*slope + intercept"
      ]
    },
    {
      "cell_type": "markdown",
      "metadata": {
        "id": "HwXzz8dDkv7c"
      },
      "source": [
        "Now that we have a model and can make predictions, let's evaluate our model using Root Mean Square Error (RMSE). RMSE is the square root of the mean of the squared differences between the residuals, and the residuals is just a fancy word for the difference between the predicted output and the true output.\n",
        "\n",
        "Complete the following function to compute the RSME of a simple linear regression model given the input_feature, output, intercept and slope:"
      ]
    },
    {
      "cell_type": "code",
      "execution_count": null,
      "metadata": {
        "id": "nujfA_y3kves"
      },
      "outputs": [],
      "source": [
        "def get_root_mean_square_error(predicted_values, actual_values):\n",
        "  return np.sqrt((1/(len(actual_values))) * np.sum(np.power(predicted_values - actual_values, 2)))"
      ]
    },
    {
      "cell_type": "markdown",
      "metadata": {
        "id": "ByK1k1X1k1YE"
      },
      "source": [
        "The RMSE has no bound, thus it becomes challenging to determine whether a particular RMSE value is considered good or bad without any reference point. Instead, we use R2 score. The R2 score is calculated by comparing the sum of the squared differences between the actual and predicted values of the dependent variable to the total sum of squared differences between the actual and mean values of the dependent variable. The R2 score is formulated as below:\n",
        "\n",
        "$$R^2 = 1 - \\frac{SSres}{SStot} = 1 - \\frac{\\sum_{i=1}^{n} (y_{i,true} - y_{i,pred})^2}{\\sum_{i=1}^{n} (y_{i,true} - \\bar{y}_{true})^2} $$"
      ]
    },
    {
      "cell_type": "markdown",
      "metadata": {
        "id": "B70NqPIkk7P0"
      },
      "source": [
        "Complete the following function to calculate the R2 score of a given input_feature, output, bias, and slope:"
      ]
    },
    {
      "cell_type": "code",
      "execution_count": null,
      "metadata": {
        "id": "rRFf4yqmk9Jz"
      },
      "outputs": [],
      "source": [
        "def get_r2_score(predicted_values, actual_values):\n",
        "  mean_yMain = sum(actual_values) / len(actual_values)\n",
        "    \n",
        "  tss = sum((y - mean_yMain) ** 2 for y in actual_values)\n",
        "    \n",
        "  rss = sum((actual_values[i] - predicted_values[i]) ** 2 for i in range(len(actual_values)))\n",
        "  \n",
        "  r2 = 1 - (rss / tss)\n",
        "  \n",
        "  return r2\n"
      ]
    },
    {
      "cell_type": "markdown",
      "metadata": {
        "id": "HxOOUjmvk_bT"
      },
      "source": [
        "Now calculate the fitness of the model.\n",
        "Remember to provide explanation for the outputs in your code!"
      ]
    },
    {
      "cell_type": "code",
      "execution_count": null,
      "metadata": {
        "id": "S38EwioclBiV"
      },
      "outputs": [],
      "source": [
        "designated_feature_list = df.columns.to_list()[:-1]\n",
        "r2_scores = []\n",
        "for feature in designated_feature_list:\n",
        "  alpha, beta = linear_regression(df[feature].to_numpy(), df['MEDV'])\n",
        "  r2_scores.append(get_r2_score(get_regression_predictions(df[feature].to_numpy(), beta, alpha), df['MEDV']))\n",
        "\n",
        "plt.figure(figsize=(10, 6))\n",
        "plt.plot(designated_feature_list, r2_scores, alpha = 0.5, label=\"r2-scores of features\", color='blue')\n",
        "plt.legend()\n",
        "plt.grid()\n",
        "plt.axhline(y = max(r2_scores), color = 'red')\n",
        "plt.text(0, max(r2_scores), f'Max R2 Score: {max(r2_scores)}', color='black', fontsize=12)\n",
        "plt.show()"
      ]
    },
    {
      "cell_type": "markdown",
      "metadata": {},
      "source": [
        "From the above figure, we can see that the feature **LSTAT** gets highest score as predicted before because its scatter plot looks more like a line that other features.Lets see how the line is fit to the scatter plot"
      ]
    },
    {
      "cell_type": "code",
      "execution_count": null,
      "metadata": {},
      "outputs": [],
      "source": [
        "x = np.arange(0, 35, 0.1)\n",
        "alpha , beta = linear_regression(df['LSTAT'].to_numpy(), df['MEDV'].to_numpy())\n",
        "y = alpha*x + beta\n",
        "plt.figure() \n",
        "plt.scatter(df['LSTAT'], df['MEDV'], alpha=0.5, color='blue')\n",
        "plt.scatter(x, y, alpha=0.1, color='red')\n",
        "plt.scatter(x, x, alpha=0.05, color = 'black')\n",
        "plt.title(\"Fit line\")\n",
        "plt.grid()\n",
        "plt.show()"
      ]
    },
    {
      "cell_type": "markdown",
      "metadata": {
        "id": "b5xJaLcqkYNk"
      },
      "source": [
        "# Ploynomial Regression"
      ]
    },
    {
      "cell_type": "markdown",
      "metadata": {
        "id": "wkVMCH41kLdz"
      },
      "source": [
        "To extend the simple linear regression to polynomial regression, we can model the relationship between the independent variable $x$ and the dependent variable $y$ as a polynomial function of degree $n$:\n",
        "\n",
        "$$f(x) = \\beta_0 + \\beta_1x + \\beta_2x^2 + \\ldots + \\beta_nx^n$$\n",
        "\n",
        "The steps to find the parameters $\\beta_i$ are similar to those in simple linear regression. We again minimize the RSS function by taking the derivatives with respect to each parameter and setting them to 0.\n",
        "\n",
        "- Step 1: Compute the RSS function for polynomial regression:\n",
        "\n",
        "$$ RSS = \\Sigma (y_i - (\\hat{\\beta_0} + \\hat{\\beta_1}x_i + \\hat{\\beta_2}x_i^2 + \\ldots + \\hat{\\beta_n}x_i^n))^2 $$\n",
        "\n",
        "- Step 2: Compute the derivatives of the RSS function with respect to each parameter $\\beta_i$ and set them to 0 to find the desired parameters.\n",
        "\n",
        "$$ \\frac{\\partial RSS}{\\partial \\beta_i} = 0, \\text{ for } i = 0, 1, 2, \\ldots, n$$\n",
        "\n",
        "Solving these equations will give us the optimal values of $\\beta_i$ for the polynomial regression model. The specific form of the equations will depend on the degree of the polynomial and the number of parameters.\n",
        "\n",
        "The general form for finding the coefficients for polynomial regression can be represented as:\n",
        "\n",
        "$$ \\beta = (X^T X)^{-1} X^T y $$\n",
        "\n",
        "where:\n",
        "- $X$ is the design matrix with columns $x^0, x^1, x^2, ..., x^n$\n",
        "- $x^i$ represents the feature vector of $x$ raised to the power of $i$\n",
        "- $y$ is the target variable vector\n",
        "- $\\beta$ is the coefficient vector for the polynomial regression\n",
        "\n",
        "By solving for $\\beta$ using the above formula, we can obtain the coefficients for the polynomial regression model."
      ]
    },
    {
      "cell_type": "code",
      "execution_count": null,
      "metadata": {
        "id": "Z4LNTn2tkMHO"
      },
      "outputs": [],
      "source": [
        "def polynomial_regression(x, y, degree):\n",
        "  X = np.array([np.power(x, i) for i in range(degree+1)])\n",
        "  return np.matmul(np.matmul(np.linalg.inv(np.matmul(X.T, X)), X.T), y)"
      ]
    },
    {
      "cell_type": "markdown",
      "metadata": {
        "id": "JqETl66ong-U"
      },
      "source": [
        "## Computing the Derivative\n",
        "\n",
        "As we saw, the cost function is the sum over the data points of the squared difference between an observed output and a predicted output.\n",
        "\n",
        "Since the derivative of a sum is the sum of the derivatives, we can compute the derivative for a single data point and then sum over data points. We can write the squared difference between the observed output and predicted output for a single point as follows:\n",
        "\n",
        "$$\n",
        "(output  - (const* w _{0} + [feature_1] * w_{1} + ...+ [feature_n] * w_{n}  ))^2\n",
        "$$\n",
        "\n",
        "With n feautures and a const , So the derivative will be :\n",
        "\n",
        "\n",
        "$$\n",
        "2 * (output  - (const* w _{0} + [feature_1] * w_{1} + ...+ [feature_n] * w_{n}  ))\n",
        "$$\n",
        "\n",
        "The term inside the paranethesis is just the error (difference between prediction and output). So we can re-write this as:\n",
        "\n",
        "$$2 * error*[feature_i] $$\n",
        "\n",
        "\n",
        "That is, the derivative for the weight for feature i is the sum (over data points) of 2 times the product of the error and the feature itself. In the case of the constant then this is just twice the sum of the errors!\n",
        "\n",
        "Recall that twice the sum of the product of two vectors is just twice the dot product of the two vectors. Therefore the derivative for the weight for feature_i is just two times the dot product between the values of feature_i and the current errors.\n",
        "\n",
        "\n",
        "With this in mind, complete the following derivative function which computes the derivative of the weight given the value of the feature (over all data points) and the errors (over all data points).\n"
      ]
    },
    {
      "cell_type": "code",
      "execution_count": null,
      "metadata": {
        "id": "bcfkt5wZnrIf"
      },
      "outputs": [],
      "source": [
        "def feature_derivative(errors, feature):\n",
        "  #TO DO\n",
        "  pass"
      ]
    },
    {
      "cell_type": "markdown",
      "metadata": {
        "id": "1pyRt-sBlVDt"
      },
      "source": [
        "## Gradient Descent\n",
        "\n",
        "Now we will write a function that performs a gradient descent. The basic premise is simple. Given a starting point we update the current weights by moving in the negative gradient direction. Recall that the gradient is the direction of increase and therefore the negative gradient is the direction of decrease and we're trying to minimize a cost function.\n",
        "\n",
        "\n",
        "The amount by which we move in the negative gradient direction is called the 'step size'. We stop when we are 'sufficiently close' to the optimum. We define this by requiring that the magnitude (length) of the gradient vector to be smaller than a fixed 'tolerance'.\n",
        "\n",
        "\n",
        "With this in mind, complete the following gradient descent function below using your derivative function above. For each step in the gradient descent we update the weight for each feature befofe computing our stopping criteria."
      ]
    },
    {
      "cell_type": "code",
      "execution_count": null,
      "metadata": {
        "id": "w4das-ABlaaP"
      },
      "outputs": [],
      "source": [
        "# Utility functions for multiple regression\n",
        "\n",
        "def normalize_features(chosen_features, data_frame):\n",
        "    for feature in chosen_features:\n",
        "        data_frame[feature] = (data_frame[feature] - data_frame[feature].mean()) / data_frame[feature].std()\n",
        "    return data_frame\n",
        "\n",
        "def predict_output(feature_matrix, weights, bias):\n",
        "    #TO DO FOR POLYNOMIAL REGRESSION PREDICTION\n",
        "    return predictions\n",
        "\n"
      ]
    },
    {
      "cell_type": "markdown",
      "metadata": {
        "id": "divz9_fEmjma"
      },
      "source": [
        "## Polynomial Regression Using Gradient Descent\n",
        "\n",
        "Polynomial regression using gradient descent involves finding the optimal parameters for a polynomial model by iteratively updating them based on the gradient of a loss function, typically the Mean Squared Error (MSE). The steps involved are as follows:\n",
        "\n",
        "- **Step 1: Define the polynomial model**\n",
        "The polynomial model has the form:\n",
        "$$f(x) = \\beta_0 + \\beta_1x + \\beta_2x^2 + \\ldots + \\beta_nx^n$$\n",
        "\n",
        "- **Step 2: Define the loss function**\n",
        "The loss function, such as Mean Squared Error (MSE), measures the error between the actual target values and the predicted values by the model.\n",
        "\n",
        "- **Step 3: Initialize the coefficients**\n",
        "Start with initial guesses for the coefficients $\\beta_0, \\beta_1, \\ldots, \\beta_n$\n",
        "\n",
        "- **Step 4: Update the coefficients using Gradient Descent**\n",
        "Iteratively update the coefficients to minimize the loss function. This is done by computing the gradient of the loss function with respect to each coefficient and making small adjustments in the opposite direction of the gradient.\n",
        "\n",
        "- **Step 5: Repeat until convergence**\n",
        "Continue updating the coefficients iteratively until the algorithm converges to the optimal values.\n",
        "\n",
        "- **Step 6: Use the learned coefficients for prediction**\n",
        "Once the coefficients converge, they can be used in the polynomial function to make predictions on new data points.\n",
        "\n",
        "Overall, polynomial regression using gradient descent is an iterative optimization process that aims to find the best-fitting polynomial curve to the data points by minimizing the prediction errors. The learning rate and the number of iterations are key hyperparameters to tune for efficient convergence and accurate modeling.\n",
        "\n"
      ]
    },
    {
      "cell_type": "code",
      "execution_count": null,
      "metadata": {
        "id": "1EdzTgrzlWlR"
      },
      "outputs": [],
      "source": [
        "def polynomial_regression_gradient_descent(feature_matrix, outputs, initial_weights,bias, step_size, tolerance):\n",
        "    weights = np.array(initial_weights)\n",
        "\n",
        "    while True:\n",
        "        # Compute predictions using polynomial function and errors\n",
        "        #TO DO\n",
        "\n",
        "        # Compute derivatives for all weights\n",
        "        #TO DO\n",
        "\n",
        "        # Update weights and bias\n",
        "        #TO DO\n",
        "\n",
        "        # Check convergence\n",
        "        #TO DO\n",
        "\n",
        "    return weights, bias"
      ]
    },
    {
      "cell_type": "code",
      "execution_count": null,
      "metadata": {
        "id": "1QAqzvnEltkW"
      },
      "outputs": [],
      "source": [
        "\n",
        "def run_polynomial_regression(chosen_feature_matrix, target_matrix, keywords):\n",
        "    initial_weights = keywords['initial_weights']\n",
        "    step_size = keywords['step_size']\n",
        "    tolerance = keywords['tolerance']\n",
        "    bias = keywords['bias']\n",
        "    weights = np.array(initial_weights)\n",
        "    weights, bias = polynomial_regression_gradient_descent(chosen_feature_matrix, target_matrix, weights, bias, step_size, tolerance)\n",
        "\n",
        "    return weights, bias\n",
        "\n",
        "def get_weights_and_bias(chosen_features):\n",
        "\n",
        "    keywords = {\n",
        "        'initial_weights': np.array([.5]*len(chosen_features)),\n",
        "        'step_size': 1.e-4,\n",
        "        'tolerance': 1.e-10,\n",
        "        'bias': 0\n",
        "    }\n",
        "\n",
        "    # TO DO\n",
        "\n",
        "    return chosen_feature_matrix, train_weights, bias"
      ]
    },
    {
      "cell_type": "markdown",
      "metadata": {},
      "source": [
        "# Classification\n",
        "In classification, our task is to determine the label of given query.One of the most popular classification models is **Decision Tree**.One of the bugs of decision trees is that the can easily overfitt to train data.To prevent this, we can prune the decision tree.Pruning in decision trees refers to the process of reducing the size of the tree by removing certain branches that do not provide significant value or improve the overall accuracy of the model.Lets explore some of its pros and cons:\n",
        "> pros\n",
        ">> * Prevents overfitting: Pruning helps to simplify the model and improve its generalization by removing unnecessary branches that may capture noise in the data.\n",
        ">> * Improves interpretability: A pruned decision tree is easier to interpret and understand, making it more useful for decision-making and analysis.\n",
        ">> * Reduces computational complexity: Smaller trees resulting from pruning are faster to build and require less computational resources for prediction.\n",
        "\n",
        "> cons\n",
        ">> * Risk of underfitting: Pruning too aggressively may lead to a simplified model that fails to capture important patterns in the data, resulting in underfitting.\n",
        ">> * Loss of information: Removing branches from the tree may result in the loss of valuable information that could potentially improve the model's accuracy.\n",
        ">> * Selection of optimal pruning parameters: Determining the optimal pruning parameters, such as the depth of the tree or the minimum number of samples required to split a node, can be a challenging task and may require experimentation.\n",
        "\n",
        "Under the following circumstances, decision trees can be prior to other models:\n",
        "* Interpretability: Decision trees are easy to interpret and visualize, making them a preferred choice when the model needs to be easily understood by non-technical stakeholders or when the decision-making process needs to be transparent.\n",
        "* Non-linear relationships: Decision trees are capable of capturing non-linear relationships between features, making them suitable for datasets with complex interactions and patterns.\n",
        "* Handling both numerical and categorical data: Decision trees can handle both numerical and categorical data without the need for data preprocessing such as one-hot encoding, making them versatile and easy to work with.\n",
        "* Scalability: Decision trees are relatively fast to build and can handle large datasets with high dimensionality, making them suitable for applications where computational efficiency is important.\n",
        "* Feature importance: Decision trees provide a measure of feature importance, which can be useful for feature selection and understanding the impact of different variables on the target variable.\n",
        "\n",
        "> Question : What is the primary difference between models like KNN and methods like Neural Networks and Logistic Regression?\n",
        ">> Answer : Models like Logistic Regression are categorized as **Generative** models which learn decistion boundaries from train data and don't have to do anything with the train data anymore.But models like KNN are categorized as **Discriminative** models that do not learn decision boundaries and to answer each query, they refer to all training data.\n",
        "\n",
        "Now lets explore **One Nearest Neighbor** algorithm.One nearest neighbor algorithm, also known as the 1-NN algorithm, is a simple instance-based learning algorithm used for classification and regression tasks. In this algorithm, the predicted value for a new data point is determined by the value of the nearest neighbor in the training dataset.\n",
        "\n",
        "> Pros\n",
        ">> * Simple and easy to implement: The 1-NN algorithm is straightforward to understand and implement, making it a good choice for beginners in machine learning.\n",
        ">> * Non-parametric: The algorithm does not make any assumptions about the underlying data distribution, making it flexible and able to handle complex patterns in the data.\n",
        ">> * Adaptability to new data: The algorithm can easily adapt to new data points without the need to retrain the model, as predictions are based on the nearest neighbor in the training dataset.\n",
        "\n",
        "> Cons\n",
        ">> * Computationally expensive: Calculating distances between the new data point and all points in the training dataset can be computationally expensive, especially for large datasets.\n",
        ">> * Sensitivity to noise and outliers: The algorithm is sensitive to noise and outliers in the data, as the prediction is based on the nearest neighbor, which may not always be representative of the true underlying pattern.\n",
        ">> * Lack of generalization: The 1-NN algorithm may not generalize well to unseen data, as it relies heavily on the training dataset and may not capture the overall trends in the data.\n",
        "\n",
        "As mentioned above, one of the challenges in KNN algorithm is calculating the distance of points which is computationally expensive.To reduce this overhead, there are several methods.Lets explore some of them:\n",
        "\n",
        "### 1-Partial distances\n",
        "Compute distance using first r dimensions only:\n",
        "$$\n",
        "    D_{r}(x, x\\prime) = (\\sum_{k=1}^{r}(x_{k} - x\\prime_{k})^{2})^{1/2}\n",
        "$$\n",
        "where r < d\n",
        "### 2-Pre-structuring: Bucketing\n",
        "In the Bucketing algorithm,the space is divided into identical cells.For each cell the data points inside it are stored in a list.Given a test point x, find the cell that contains it.Search only the points inside that cell. It does not guarantee to find the true nearest neighbor(s) and it is a speed vs accuracy tradeoff.\n",
        "\n",
        "![Image Title](1.png)\n",
        "\n",
        "### 3-Pre-structuring: Search Trees(K-d trees)\n",
        "A k-d tree is a data structure for storing a finite set of points from a kdimensional space.It decompose space into a relatively small number of cells such that no cell contains too many points.\n",
        "\n",
        "![Image Title](2.png)\n",
        "\n",
        "\n",
        "Now we want to do a classification on our dataset.First of all, lets add a new target column to the dataframe as requested.The label of luxurious, economical and houses with lower MEDV are 1, 2, 3 respectively"
      ]
    },
    {
      "cell_type": "code",
      "execution_count": 24,
      "metadata": {},
      "outputs": [
        {
          "data": {
            "text/html": [
              "<div>\n",
              "<style scoped>\n",
              "    .dataframe tbody tr th:only-of-type {\n",
              "        vertical-align: middle;\n",
              "    }\n",
              "\n",
              "    .dataframe tbody tr th {\n",
              "        vertical-align: top;\n",
              "    }\n",
              "\n",
              "    .dataframe thead th {\n",
              "        text-align: right;\n",
              "    }\n",
              "</style>\n",
              "<table border=\"1\" class=\"dataframe\">\n",
              "  <thead>\n",
              "    <tr style=\"text-align: right;\">\n",
              "      <th></th>\n",
              "      <th>CRIM</th>\n",
              "      <th>ZN</th>\n",
              "      <th>INDUS</th>\n",
              "      <th>CHAS</th>\n",
              "      <th>NOX</th>\n",
              "      <th>RM</th>\n",
              "      <th>AGE</th>\n",
              "      <th>DIS</th>\n",
              "      <th>RAD</th>\n",
              "      <th>TAX</th>\n",
              "      <th>PTRATIO</th>\n",
              "      <th>B</th>\n",
              "      <th>LSTAT</th>\n",
              "      <th>MEDV</th>\n",
              "      <th>Class</th>\n",
              "    </tr>\n",
              "  </thead>\n",
              "  <tbody>\n",
              "    <tr>\n",
              "      <th>0</th>\n",
              "      <td>0.00632</td>\n",
              "      <td>18.0</td>\n",
              "      <td>2.31</td>\n",
              "      <td>0.0</td>\n",
              "      <td>0.538</td>\n",
              "      <td>6.575</td>\n",
              "      <td>65.2</td>\n",
              "      <td>4.0900</td>\n",
              "      <td>1</td>\n",
              "      <td>296.0</td>\n",
              "      <td>15.3</td>\n",
              "      <td>396.900000</td>\n",
              "      <td>4.98</td>\n",
              "      <td>24.0</td>\n",
              "      <td>2</td>\n",
              "    </tr>\n",
              "    <tr>\n",
              "      <th>1</th>\n",
              "      <td>0.02731</td>\n",
              "      <td>0.0</td>\n",
              "      <td>7.07</td>\n",
              "      <td>0.0</td>\n",
              "      <td>0.469</td>\n",
              "      <td>6.421</td>\n",
              "      <td>78.9</td>\n",
              "      <td>4.9671</td>\n",
              "      <td>2</td>\n",
              "      <td>242.0</td>\n",
              "      <td>17.8</td>\n",
              "      <td>396.900000</td>\n",
              "      <td>9.14</td>\n",
              "      <td>21.6</td>\n",
              "      <td>2</td>\n",
              "    </tr>\n",
              "    <tr>\n",
              "      <th>2</th>\n",
              "      <td>0.02729</td>\n",
              "      <td>0.0</td>\n",
              "      <td>7.07</td>\n",
              "      <td>0.0</td>\n",
              "      <td>0.469</td>\n",
              "      <td>7.185</td>\n",
              "      <td>61.1</td>\n",
              "      <td>4.9671</td>\n",
              "      <td>2</td>\n",
              "      <td>242.0</td>\n",
              "      <td>17.8</td>\n",
              "      <td>392.830000</td>\n",
              "      <td>4.03</td>\n",
              "      <td>34.7</td>\n",
              "      <td>3</td>\n",
              "    </tr>\n",
              "    <tr>\n",
              "      <th>3</th>\n",
              "      <td>0.03237</td>\n",
              "      <td>0.0</td>\n",
              "      <td>2.18</td>\n",
              "      <td>0.0</td>\n",
              "      <td>0.458</td>\n",
              "      <td>6.998</td>\n",
              "      <td>45.8</td>\n",
              "      <td>6.0622</td>\n",
              "      <td>3</td>\n",
              "      <td>222.0</td>\n",
              "      <td>18.7</td>\n",
              "      <td>336.820947</td>\n",
              "      <td>2.94</td>\n",
              "      <td>33.4</td>\n",
              "      <td>3</td>\n",
              "    </tr>\n",
              "    <tr>\n",
              "      <th>4</th>\n",
              "      <td>0.06905</td>\n",
              "      <td>0.0</td>\n",
              "      <td>2.18</td>\n",
              "      <td>0.0</td>\n",
              "      <td>0.458</td>\n",
              "      <td>7.147</td>\n",
              "      <td>54.2</td>\n",
              "      <td>6.0622</td>\n",
              "      <td>3</td>\n",
              "      <td>222.0</td>\n",
              "      <td>18.7</td>\n",
              "      <td>396.900000</td>\n",
              "      <td>5.33</td>\n",
              "      <td>36.2</td>\n",
              "      <td>3</td>\n",
              "    </tr>\n",
              "  </tbody>\n",
              "</table>\n",
              "</div>"
            ],
            "text/plain": [
              "      CRIM    ZN  INDUS  CHAS    NOX     RM   AGE     DIS  RAD    TAX  \\\n",
              "0  0.00632  18.0   2.31   0.0  0.538  6.575  65.2  4.0900    1  296.0   \n",
              "1  0.02731   0.0   7.07   0.0  0.469  6.421  78.9  4.9671    2  242.0   \n",
              "2  0.02729   0.0   7.07   0.0  0.469  7.185  61.1  4.9671    2  242.0   \n",
              "3  0.03237   0.0   2.18   0.0  0.458  6.998  45.8  6.0622    3  222.0   \n",
              "4  0.06905   0.0   2.18   0.0  0.458  7.147  54.2  6.0622    3  222.0   \n",
              "\n",
              "   PTRATIO           B  LSTAT  MEDV  Class  \n",
              "0     15.3  396.900000   4.98  24.0      2  \n",
              "1     17.8  396.900000   9.14  21.6      2  \n",
              "2     17.8  392.830000   4.03  34.7      3  \n",
              "3     18.7  336.820947   2.94  33.4      3  \n",
              "4     18.7  396.900000   5.33  36.2      3  "
            ]
          },
          "execution_count": 24,
          "metadata": {},
          "output_type": "execute_result"
        }
      ],
      "source": [
        "deciles = df['MEDV'].quantile([0.2, 0.8])\n",
        "df['Class'] = 2\n",
        "df.loc[df['MEDV'] <= deciles.iloc[0], 'Class'] = 1\n",
        "df.loc[df['MEDV'] >= deciles.iloc[1], 'Class'] = 3\n",
        "df.head()"
      ]
    },
    {
      "cell_type": "code",
      "execution_count": 29,
      "metadata": {},
      "outputs": [],
      "source": [
        "from sklearn.model_selection import train_test_split\n",
        "X = df.iloc[:, :-2].to_numpy()\n",
        "Y = df.iloc[:, -1].to_numpy()\n",
        "X_train, X_test, Y_trian, Y_test = train_test_split(X, Y, test_size=0.2, random_state=42)"
      ]
    },
    {
      "cell_type": "markdown",
      "metadata": {},
      "source": [
        "Now we want to do classification using two different model:\n",
        "### KNN"
      ]
    },
    {
      "cell_type": "code",
      "execution_count": 87,
      "metadata": {},
      "outputs": [],
      "source": [
        "from sklearn.neighbors import KNeighborsClassifier\n",
        "models = np.empty((11, ), dtype=object)\n",
        "for i in range(1, 12):\n",
        "    models[i-1] = KNeighborsClassifier(n_neighbors=i)\n",
        "    models[i-1].fit(X_train, Y_trian)"
      ]
    },
    {
      "cell_type": "code",
      "execution_count": 88,
      "metadata": {},
      "outputs": [
        {
          "data": {
            "image/png": "[encoded data removed]",
            "text/plain": [
              "<Figure size 640x480 with 1 Axes>"
            ]
          },
          "metadata": {},
          "output_type": "display_data"
        }
      ],
      "source": [
        "from sklearn.metrics import accuracy_score\n",
        "accuracyOfModels = []\n",
        "for model in models:\n",
        "    numberOfTrueClassified = 0\n",
        "    predictions = model.predict(X_test)\n",
        "    accuracyOfModels.append(accuracy_score(Y_test, predictions))\n",
        "\n",
        "plt.axhline(y=max(accuracyOfModels), color = 'red')\n",
        "plt.axvline(x = np.argmax(accuracyOfModels) + 1, color = 'black')\n",
        "plt.plot(np.arange(11) + 1, accuracyOfModels)\n",
        "plt.xlim(0, 11)\n",
        "plt.grid()\n",
        "plt.show()"
      ]
    },
    {
      "cell_type": "markdown",
      "metadata": {},
      "source": [
        "We see that optimal k is 3 in this case and for more values of k, overfitting occurs.Now lets find the optimal K using library"
      ]
    },
    {
      "cell_type": "code",
      "execution_count": 89,
      "metadata": {},
      "outputs": [
        {
          "name": "stdout",
          "output_type": "stream",
          "text": [
            "Accuracy :  0.803921568627451  Best k =  1\n"
          ]
        }
      ],
      "source": [
        "from sklearn.model_selection import GridSearchCV\n",
        "knn = KNeighborsClassifier()\n",
        "param_grid = {'n_neighbors': list(range(1, 12))}\n",
        "grid_search = GridSearchCV(knn, param_grid, cv=10, scoring='accuracy')\n",
        "grid_search.fit(X_train, Y_trian)\n",
        "best_k = grid_search.best_params_['n_neighbors']\n",
        "optimalModel = KNeighborsClassifier(n_neighbors=best_k)\n",
        "optimalModel.fit(X_train, Y_trian)\n",
        "predictions = optimalModel.predict(X_test)\n",
        "print(\"Accuracy : \", accuracy_score(Y_test, predictions), \" Best k = \", best_k)"
      ]
    },
    {
      "cell_type": "markdown",
      "metadata": {},
      "source": [
        "### Decision Tree"
      ]
    },
    {
      "cell_type": "code",
      "execution_count": 133,
      "metadata": {},
      "outputs": [],
      "source": [
        "from sklearn.tree import DecisionTreeClassifier\n",
        "models = np.empty((14, ), dtype=object)\n",
        "for i in range(1, 15):\n",
        "    models[i-1] = DecisionTreeClassifier(max_depth=i, criterion='log_loss')\n",
        "    models[i-1].fit(X_train, Y_trian)"
      ]
    },
    {
      "cell_type": "code",
      "execution_count": 134,
      "metadata": {},
      "outputs": [
        {
          "data": {
            "image/png": "[encoded data removed]",
            "text/plain": [
              "<Figure size 640x480 with 1 Axes>"
            ]
          },
          "metadata": {},
          "output_type": "display_data"
        }
      ],
      "source": [
        "accuracyOfModels = []\n",
        "for model in models:\n",
        "    numberOfTrueClassified = 0\n",
        "    predictions = model.predict(X_test)\n",
        "    for x, i in enumerate(predictions):\n",
        "        if i == Y_test[x]:\n",
        "            numberOfTrueClassified += 1\n",
        "    accuracyOfModels.append(100*(numberOfTrueClassified / len(Y_test)))\n",
        "\n",
        "plt.axhline(y=max(accuracyOfModels), color = 'red')\n",
        "plt.axvline(x = np.argmax(accuracyOfModels) + 1, color = 'black')\n",
        "plt.plot(np.arange(14) + 1, accuracyOfModels)\n",
        "plt.xlim(0, 14)\n",
        "plt.grid()\n",
        "plt.show()"
      ]
    },
    {
      "cell_type": "markdown",
      "metadata": {},
      "source": [
        "And as we see in the above figure, the best depth which prevents overfitting of the decision tree is 9 in which we get about 87% accuracy.Now lets find optimal depth using GridSearchCV"
      ]
    },
    {
      "cell_type": "code",
      "execution_count": 139,
      "metadata": {},
      "outputs": [
        {
          "name": "stdout",
          "output_type": "stream",
          "text": [
            "Accuracy :  0.8529411764705882  Best depth =  8\n"
          ]
        }
      ],
      "source": [
        "tree = DecisionTreeClassifier(criterion='log_loss')\n",
        "param_grid = {'max_depth': list(range(1, 15))}\n",
        "grid_search = GridSearchCV(tree, param_grid, cv=10, scoring='accuracy')\n",
        "grid_search.fit(X_train, Y_trian)\n",
        "best_depth = grid_search.best_params_['max_depth']\n",
        "optimalModel = DecisionTreeClassifier(max_depth=best_depth, criterion='log_loss')\n",
        "optimalModel.fit(X_train, Y_trian)\n",
        "predictions = optimalModel.predict(X_test)\n",
        "print(\"Accuracy : \", accuracy_score(Y_test, predictions), \" Best depth = \", best_depth)"
      ]
    },
    {
      "cell_type": "code",
      "execution_count": 141,
      "metadata": {},
      "outputs": [
        {
          "data": {
            "text/plain": [
              "[Text(0.6015625, 0.9444444444444444, 'x[12] <= 14.4\\nlog_loss = 1.391\\nsamples = 404\\nvalue = [81, 237, 86]'),\n",
              " Text(0.390625, 0.8333333333333334, 'x[5] <= 6.543\\nlog_loss = 1.065\\nsamples = 294\\nvalue = [10.0, 199.0, 85.0]'),\n",
              " Text(0.2, 0.7222222222222222, 'x[5] <= 5.706\\nlog_loss = 0.55\\nsamples = 154\\nvalue = [10.0, 139.0, 5.0]'),\n",
              " Text(0.1, 0.6111111111111112, 'x[12] <= 10.975\\nlog_loss = 1.325\\nsamples = 12\\nvalue = [5, 6, 1]'),\n",
              " Text(0.05, 0.5, 'x[7] <= 1.66\\nlog_loss = 0.811\\nsamples = 4\\nvalue = [0, 3, 1]'),\n",
              " Text(0.025, 0.3888888888888889, 'log_loss = 0.0\\nsamples = 1\\nvalue = [0, 0, 1]'),\n",
              " Text(0.075, 0.3888888888888889, 'log_loss = 0.0\\nsamples = 3\\nvalue = [0, 3, 0]'),\n",
              " Text(0.15, 0.5, 'x[6] <= 88.9\\nlog_loss = 0.954\\nsamples = 8\\nvalue = [5, 3, 0]'),\n",
              " Text(0.125, 0.3888888888888889, 'log_loss = 0.0\\nsamples = 5\\nvalue = [5, 0, 0]'),\n",
              " Text(0.175, 0.3888888888888889, 'log_loss = 0.0\\nsamples = 3\\nvalue = [0, 3, 0]'),\n",
              " Text(0.3, 0.6111111111111112, 'x[9] <= 222.5\\nlog_loss = 0.404\\nsamples = 142\\nvalue = [5, 133, 4]'),\n",
              " Text(0.25, 0.5, 'x[9] <= 190.5\\nlog_loss = 0.971\\nsamples = 5\\nvalue = [0, 2, 3]'),\n",
              " Text(0.225, 0.3888888888888889, 'log_loss = 0.0\\nsamples = 2\\nvalue = [0, 2, 0]'),\n",
              " Text(0.275, 0.3888888888888889, 'log_loss = 0.0\\nsamples = 3\\nvalue = [0, 0, 3]'),\n",
              " Text(0.35, 0.5, 'x[0] <= 8.053\\nlog_loss = 0.288\\nsamples = 137\\nvalue = [5, 131, 1]'),\n",
              " Text(0.325, 0.3888888888888889, 'x[5] <= 6.539\\nlog_loss = 0.227\\nsamples = 136\\nvalue = [5, 131, 0]'),\n",
              " Text(0.3, 0.2777777777777778, 'x[10] <= 18.75\\nlog_loss = 0.193\\nsamples = 135\\nvalue = [4, 131, 0]'),\n",
              " Text(0.275, 0.16666666666666666, 'log_loss = 0.0\\nsamples = 70\\nvalue = [0, 70, 0]'),\n",
              " Text(0.325, 0.16666666666666666, 'x[8] <= 3.5\\nlog_loss = 0.334\\nsamples = 65\\nvalue = [4, 61, 0]'),\n",
              " Text(0.3, 0.05555555555555555, 'log_loss = 1.0\\nsamples = 4\\nvalue = [2, 2, 0]'),\n",
              " Text(0.35, 0.05555555555555555, 'log_loss = 0.208\\nsamples = 61\\nvalue = [2, 59, 0]'),\n",
              " Text(0.35, 0.2777777777777778, 'log_loss = 0.0\\nsamples = 1\\nvalue = [1, 0, 0]'),\n",
              " Text(0.375, 0.3888888888888889, 'log_loss = 0.0\\nsamples = 1\\nvalue = [0, 0, 1]'),\n",
              " Text(0.58125, 0.7222222222222222, 'x[5] <= 8.753\\nlog_loss = 0.985\\nsamples = 140\\nvalue = [0, 60, 80]'),\n",
              " Text(0.55625, 0.6111111111111112, 'x[5] <= 7.07\\nlog_loss = 0.815\\nsamples = 107\\nvalue = [0.0, 27.0, 80.0]'),\n",
              " Text(0.53125, 0.5, 'x[12] <= 5.195\\nlog_loss = 0.997\\nsamples = 58\\nvalue = [0.0, 27.0, 31.0]'),\n",
              " Text(0.425, 0.3888888888888889, 'x[10] <= 17.85\\nlog_loss = 0.544\\nsamples = 24\\nvalue = [0, 3, 21]'),\n",
              " Text(0.4, 0.2777777777777778, 'log_loss = 0.0\\nsamples = 16\\nvalue = [0, 0, 16]'),\n",
              " Text(0.45, 0.2777777777777778, 'x[12] <= 4.135\\nlog_loss = 0.954\\nsamples = 8\\nvalue = [0, 3, 5]'),\n",
              " Text(0.425, 0.16666666666666666, 'log_loss = 0.0\\nsamples = 5\\nvalue = [0, 0, 5]'),\n",
              " Text(0.475, 0.16666666666666666, 'log_loss = 0.0\\nsamples = 3\\nvalue = [0, 3, 0]'),\n",
              " Text(0.6375, 0.3888888888888889, 'x[7] <= 3.968\\nlog_loss = 0.874\\nsamples = 34\\nvalue = [0, 24, 10]'),\n",
              " Text(0.575, 0.2777777777777778, 'x[2] <= 5.125\\nlog_loss = 1.0\\nsamples = 18\\nvalue = [0, 9, 9]'),\n",
              " Text(0.525, 0.16666666666666666, 'x[5] <= 6.934\\nlog_loss = 0.544\\nsamples = 8\\nvalue = [0, 1, 7]'),\n",
              " Text(0.5, 0.05555555555555555, 'log_loss = 0.0\\nsamples = 7\\nvalue = [0, 0, 7]'),\n",
              " Text(0.55, 0.05555555555555555, 'log_loss = 0.0\\nsamples = 1\\nvalue = [0, 1, 0]'),\n",
              " Text(0.625, 0.16666666666666666, 'x[5] <= 6.679\\nlog_loss = 0.722\\nsamples = 10\\nvalue = [0, 8, 2]'),\n",
              " Text(0.6, 0.05555555555555555, 'log_loss = 0.918\\nsamples = 3\\nvalue = [0, 1, 2]'),\n",
              " Text(0.65, 0.05555555555555555, 'log_loss = 0.0\\nsamples = 7\\nvalue = [0, 7, 0]'),\n",
              " Text(0.7, 0.2777777777777778, 'x[2] <= 11.03\\nlog_loss = 0.337\\nsamples = 16\\nvalue = [0, 15, 1]'),\n",
              " Text(0.675, 0.16666666666666666, 'log_loss = 0.0\\nsamples = 14\\nvalue = [0, 14, 0]'),\n",
              " Text(0.725, 0.16666666666666666, 'x[5] <= 6.613\\nlog_loss = 1.0\\nsamples = 2\\nvalue = [0, 1, 1]'),\n",
              " Text(0.7, 0.05555555555555555, 'log_loss = 0.0\\nsamples = 1\\nvalue = [0, 1, 0]'),\n",
              " Text(0.75, 0.05555555555555555, 'log_loss = 0.0\\nsamples = 1\\nvalue = [0, 0, 1]'),\n",
              " Text(0.58125, 0.5, 'log_loss = 0.0\\nsamples = 49\\nvalue = [0, 0, 49]'),\n",
              " Text(0.60625, 0.6111111111111112, 'log_loss = 0.0\\nsamples = 33\\nvalue = [0, 33, 0]'),\n",
              " Text(0.8125, 0.8333333333333334, 'x[0] <= 0.615\\nlog_loss = 0.999\\nsamples = 110\\nvalue = [71, 38, 1]'),\n",
              " Text(0.7, 0.7222222222222222, 'x[7] <= 1.98\\nlog_loss = 0.889\\nsamples = 49\\nvalue = [15, 34, 0]'),\n",
              " Text(0.675, 0.6111111111111112, 'log_loss = 0.0\\nsamples = 9\\nvalue = [9, 0, 0]'),\n",
              " Text(0.725, 0.6111111111111112, 'x[0] <= 0.172\\nlog_loss = 0.61\\nsamples = 40\\nvalue = [6, 34, 0]'),\n",
              " Text(0.7, 0.5, 'log_loss = 0.0\\nsamples = 22\\nvalue = [0, 22, 0]'),\n",
              " Text(0.75, 0.5, 'x[7] <= 5.022\\nlog_loss = 0.918\\nsamples = 18\\nvalue = [6, 12, 0]'),\n",
              " Text(0.725, 0.3888888888888889, 'log_loss = 0.0\\nsamples = 11\\nvalue = [0, 11, 0]'),\n",
              " Text(0.775, 0.3888888888888889, 'x[6] <= 67.75\\nlog_loss = 0.592\\nsamples = 7\\nvalue = [6, 1, 0]'),\n",
              " Text(0.75, 0.2777777777777778, 'log_loss = 0.0\\nsamples = 1\\nvalue = [0, 1, 0]'),\n",
              " Text(0.8, 0.2777777777777778, 'log_loss = 0.0\\nsamples = 6\\nvalue = [6, 0, 0]'),\n",
              " Text(0.925, 0.7222222222222222, 'x[6] <= 84.9\\nlog_loss = 0.468\\nsamples = 61\\nvalue = [56, 4, 1]'),\n",
              " Text(0.9, 0.6111111111111112, 'x[6] <= 84.05\\nlog_loss = 1.239\\nsamples = 13\\nvalue = [8, 4, 1]'),\n",
              " Text(0.85, 0.5, 'x[11] <= 358.27\\nlog_loss = 0.722\\nsamples = 10\\nvalue = [8, 2, 0]'),\n",
              " Text(0.825, 0.3888888888888889, 'log_loss = 0.0\\nsamples = 7\\nvalue = [7, 0, 0]'),\n",
              " Text(0.875, 0.3888888888888889, 'x[9] <= 486.5\\nlog_loss = 0.918\\nsamples = 3\\nvalue = [1, 2, 0]'),\n",
              " Text(0.85, 0.2777777777777778, 'log_loss = 0.0\\nsamples = 1\\nvalue = [1, 0, 0]'),\n",
              " Text(0.9, 0.2777777777777778, 'log_loss = 0.0\\nsamples = 2\\nvalue = [0, 2, 0]'),\n",
              " Text(0.95, 0.5, 'x[7] <= 2.425\\nlog_loss = 0.918\\nsamples = 3\\nvalue = [0, 2, 1]'),\n",
              " Text(0.925, 0.3888888888888889, 'log_loss = 0.0\\nsamples = 1\\nvalue = [0, 0, 1]'),\n",
              " Text(0.975, 0.3888888888888889, 'log_loss = 0.0\\nsamples = 2\\nvalue = [0, 2, 0]'),\n",
              " Text(0.95, 0.6111111111111112, 'log_loss = 0.0\\nsamples = 48\\nvalue = [48, 0, 0]')]"
            ]
          },
          "execution_count": 141,
          "metadata": {},
          "output_type": "execute_result"
        },
        {
          "data": {
            "image/png": "[encoded data removed]",
            "text/plain": [
              "<Figure size 640x480 with 1 Axes>"
            ]
          },
          "metadata": {},
          "output_type": "display_data"
        }
      ],
      "source": [
        "from sklearn import tree\n",
        "tree.plot_tree(optimalModel)"
      ]
    }
  ],
  "metadata": {
    "colab": {
      "provenance": []
    },
    "kernelspec": {
      "display_name": "Python 3",
      "name": "python3"
    },
    "language_info": {
      "codemirror_mode": {
        "name": "ipython",
        "version": 3
      },
      "file_extension": ".py",
      "mimetype": "text/x-python",
      "name": "python",
      "nbconvert_exporter": "python",
      "pygments_lexer": "ipython3",
      "version": "3.9.12"
    }
  },
  "nbformat": 4,
  "nbformat_minor": 0
}
