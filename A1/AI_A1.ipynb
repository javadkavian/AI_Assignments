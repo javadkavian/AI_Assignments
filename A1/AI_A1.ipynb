{
 "cells": [
  {
   "cell_type": "code",
   "execution_count": 3,
   "metadata": {},
   "outputs": [],
   "source": [
    "import pandas as pd\n",
    "import numpy as np\n",
    "import random\n",
    "df = pd.read_csv(\"snacks.csv\")\n",
    "# if df[df.Snack == \"MazMaz\"][\"Value\"].item() > 8:\n",
    "#     print(\"salam\")\n",
    "    \n",
    "upBound = 4\n",
    "downBound = 2\n",
    "maximumWeight = 10\n",
    "crossOverProbabality = 0.8\n",
    "population = []"
   ]
  },
  {
   "cell_type": "code",
   "execution_count": 4,
   "metadata": {},
   "outputs": [],
   "source": [
    "class KnapsackItem:\n",
    "    def __init__(self, key_, weight_, value_):\n",
    "        self.key = key_\n",
    "        self.value = value_\n",
    "        self.weight = weight_"
   ]
  },
  {
   "cell_type": "code",
   "execution_count": 5,
   "metadata": {},
   "outputs": [],
   "source": [
    "numberOfSolutions = 1000\n",
    "for i in range(0, numberOfSolutions):\n",
    "    numberOfItems = random.randint(downBound, upBound)\n",
    "    itemsKey = sorted(random.sample(np.arange(len(df)).tolist(), numberOfItems))\n",
    "    solution = []\n",
    "    for j in range(0, len(df)):\n",
    "        if j in itemsKey:\n",
    "            randomWeight = random.uniform(0, df.iloc[j, 1])\n",
    "            value = (randomWeight / df.iloc[j, 1])*df.iloc[j, 2]\n",
    "            solution.append(KnapsackItem(j, randomWeight, value))\n",
    "        else:\n",
    "            solution.append(KnapsackItem(j, 0, 0))   \n",
    "    population.append(solution)\n"
   ]
  },
  {
   "cell_type": "code",
   "execution_count": 6,
   "metadata": {},
   "outputs": [],
   "source": [
    "def getSolutionPoint(solution_):\n",
    "    weightSum = 0\n",
    "    valueSum = 0\n",
    "    numberOfNonzeros = 0\n",
    "    for item in solution_:\n",
    "        weightSum += item.weight\n",
    "        valueSum += item.value\n",
    "        if item.weight != 0:\n",
    "            numberOfNonzeros += 1\n",
    "    if weightSum > maximumWeight:\n",
    "        return  maximumWeight - weightSum\n",
    "    # if numberOfNonzeros < downBound:\n",
    "    #     return numberOfNonzeros - downBound\n",
    "    # if  numberOfNonzeros > upBound:\n",
    "    #     return upBound - numberOfNonzeros\n",
    "    else:\n",
    "        return valueSum + (maximumWeight - weightSum)\n",
    "\n",
    "    "
   ]
  },
  {
   "cell_type": "code",
   "execution_count": 7,
   "metadata": {},
   "outputs": [],
   "source": [
    "population = sorted(population, key = lambda x : getSolutionPoint(x), reverse=True)\n",
    "\n",
    "def weighted_choice(items):\n",
    "    weights = [1 / (i + 1) for i in range(len(items))]\n",
    "    return random.choices(items, weights=weights)[0]\n",
    "\n"
   ]
  },
  {
   "cell_type": "code",
   "execution_count": 28,
   "metadata": {},
   "outputs": [],
   "source": [
    "def crossOver(solution1, solution2):\n",
    "    crossOverPoint = random.randint(1, len(solution1) - 1)\n",
    "    return [solution1[0:crossOverPoint] + solution2[crossOverPoint:], solution2[0:crossOverPoint] + solution1[crossOverPoint:]]\n"
   ]
  },
  {
   "cell_type": "code",
   "execution_count": null,
   "metadata": {},
   "outputs": [],
   "source": []
  }
 ],
 "metadata": {
  "kernelspec": {
   "display_name": "Python 3",
   "language": "python",
   "name": "python3"
  },
  "language_info": {
   "codemirror_mode": {
    "name": "ipython",
    "version": 3
   },
   "file_extension": ".py",
   "mimetype": "text/x-python",
   "name": "python",
   "nbconvert_exporter": "python",
   "pygments_lexer": "ipython3",
   "version": "3.9.12"
  }
 },
 "nbformat": 4,
 "nbformat_minor": 2
}
