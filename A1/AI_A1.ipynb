{
 "cells": [
  {
   "cell_type": "code",
   "execution_count": 1,
   "metadata": {},
   "outputs": [],
   "source": [
    "import pandas as pd\n",
    "import numpy as np\n",
    "import random\n",
    "df = pd.read_csv(\"snacks.csv\")"
   ]
  },
  {
   "cell_type": "code",
   "execution_count": 2,
   "metadata": {},
   "outputs": [],
   "source": [
    "upBound = 4\n",
    "downBound = 1\n",
    "maximumWeight = 10\n",
    "minimumValue = 16\n",
    "population = []\n",
    "numberOfSolutions = 1000\n",
    "numberOfGenerations = 300\n",
    "mutationProbabality = 0.3"
   ]
  },
  {
   "cell_type": "code",
   "execution_count": 3,
   "metadata": {},
   "outputs": [],
   "source": [
    "class KnapsackItem:\n",
    "    def __init__(self, key_, weight_, value_):\n",
    "        self.key = key_\n",
    "        self.value = value_\n",
    "        self.weight = weight_"
   ]
  },
  {
   "cell_type": "code",
   "execution_count": 4,
   "metadata": {},
   "outputs": [],
   "source": [
    "def getSolutionPoint(solution_):\n",
    "    weightSum = 0\n",
    "    valueSum = 0\n",
    "    for item in solution_:\n",
    "        weightSum += item.weight\n",
    "        valueSum += item.value\n",
    "    weightDifference = maximumWeight - weightSum\n",
    "    valueDiffernce = valueSum - minimumValue\n",
    "    if weightDifference * valueDiffernce > 0:\n",
    "        return weightDifference + valueDiffernce\n",
    "    else:\n",
    "        if weightDifference > 0:\n",
    "            return valueDiffernce\n",
    "        else:\n",
    "            return weightDifference\n",
    "\n",
    "    "
   ]
  },
  {
   "cell_type": "code",
   "execution_count": 5,
   "metadata": {},
   "outputs": [],
   "source": [
    "\n",
    "\n",
    "def weighted_choice(items):\n",
    "    weights = [1 / (i + 1) for i in range(len(items))]\n",
    "    return random.choices(items, weights=weights, k=2)\n",
    "\n"
   ]
  },
  {
   "cell_type": "code",
   "execution_count": 6,
   "metadata": {},
   "outputs": [],
   "source": [
    "def crossOver(solution1, solution2):\n",
    "    crossOverPoint = random.randint(1, len(solution1) - 1)\n",
    "    solution_ = solution1[0:crossOverPoint] + solution2[crossOverPoint:]\n",
    "    numberOfNonZeros = 0\n",
    "    for item in solution_:\n",
    "        if item.weight != 0:\n",
    "            numberOfNonZeros += 1\n",
    "    if numberOfNonZeros < downBound:\n",
    "        for i in range(0, downBound - numberOfNonZeros):\n",
    "            for item in solution_:\n",
    "                if item.weight == 0:\n",
    "                    item.weight = min(df.iloc[item.key, 1], abs(np.random.normal(df.iloc[item.key, 1] / 2, 1)))\n",
    "                    item.value = (item.weight / df.iloc[item.key, 1]) * df.iloc[item.key, 2]\n",
    "    elif numberOfNonZeros > upBound:\n",
    "        diffrence = numberOfNonZeros - upBound\n",
    "        while diffrence != 0:\n",
    "            randomIndex = random.randint(0, len(df) - 1)\n",
    "            if solution_[randomIndex].weight != 0:\n",
    "                solution_[randomIndex].weight = 0\n",
    "                solution_[randomIndex].value = 0\n",
    "                diffrence -= 1                \n",
    "    return solution_\n"
   ]
  },
  {
   "cell_type": "code",
   "execution_count": 7,
   "metadata": {},
   "outputs": [],
   "source": [
    "def mutate(solution_):\n",
    "    weightSum = 0\n",
    "    for item in solution_:\n",
    "        weightSum += item.weight\n",
    "    if weightSum > maximumWeight and weightSum != 0:\n",
    "        normalizationFactor = weightSum / maximumWeight\n",
    "        for item in solution_:\n",
    "            item.weight = item.weight / normalizationFactor\n",
    "            item.value = item.value / normalizationFactor\n",
    "    elif weightSum < maximumWeight and weightSum != 0:\n",
    "        normalizationFactor = maximumWeight / weightSum\n",
    "        for item in solution_:\n",
    "            item.weight = item.weight * normalizationFactor\n",
    "            item.value = item.value * normalizationFactor\n",
    "    return solution_            \n",
    "\n"
   ]
  },
  {
   "cell_type": "code",
   "execution_count": 8,
   "metadata": {},
   "outputs": [],
   "source": [
    "def mutate2(solution_):\n",
    "    mutatedItemIndex = random.randint(0, len(df) - 1)\n",
    "    mutatedItem = solution_[mutatedItemIndex]\n",
    "    factor = random.choices([0.5, 2], [0.5, 0.5])\n",
    "    mutatedItem.weight *= factor[0]\n",
    "    mutatedItem.value *= factor[0]\n",
    "    solution_[mutatedItemIndex] = mutatedItem\n",
    "    return solution_"
   ]
  },
  {
   "cell_type": "code",
   "execution_count": 9,
   "metadata": {},
   "outputs": [],
   "source": [
    "def findSolution():\n",
    "    for j in range(0, 1000):\n",
    "        weightSum = 0\n",
    "        valueSum = 0\n",
    "        for item in population[j]:\n",
    "            weightSum += item.weight\n",
    "            valueSum += item.value\n",
    "        if weightSum <= maximumWeight and valueSum >= minimumValue:\n",
    "            return [population[j], True]\n",
    "    return [0, False]              "
   ]
  },
  {
   "cell_type": "code",
   "execution_count": 10,
   "metadata": {},
   "outputs": [],
   "source": [
    "\n",
    "for i in range(0, numberOfSolutions):\n",
    "    numberOfItems = random.randint(downBound, upBound)\n",
    "    itemsKey = sorted(random.sample(np.arange(len(df)).tolist(), numberOfItems))\n",
    "    solution = []\n",
    "    for j in range(0, len(df)):\n",
    "        if j in itemsKey:\n",
    "            randomWeight = min(df.iloc[j, 1], abs(np.random.normal(df.iloc[j, 1] / 2, 1)))\n",
    "            value = (randomWeight / df.iloc[j, 1])*df.iloc[j, 2]\n",
    "            solution.append(KnapsackItem(j, randomWeight, value))\n",
    "        else:\n",
    "            solution.append(KnapsackItem(j, 0, 0))   \n",
    "    population.append(solution)\n",
    "population = sorted(population, key = lambda x : getSolutionPoint(x), reverse=True)"
   ]
  },
  {
   "cell_type": "code",
   "execution_count": 11,
   "metadata": {},
   "outputs": [
    {
     "data": {
      "text/plain": [
       "[<matplotlib.lines.Line2D at 0x2819cb0a970>]"
      ]
     },
     "execution_count": 11,
     "metadata": {},
     "output_type": "execute_result"
    },
    {
     "data": {
      "image/png": "[encoded data removed]",
      "text/plain": [
       "<Figure size 640x480 with 1 Axes>"
      ]
     },
     "metadata": {},
     "output_type": "display_data"
    }
   ],
   "source": [
    "import matplotlib.pyplot as plt\n",
    "averageValues = []\n",
    "for i in range(0, numberOfGenerations):\n",
    "    newPopulation = []\n",
    "    for j in range(0, numberOfSolutions):\n",
    "        parent1, parent2 = weighted_choice(population)\n",
    "        newChild = crossOver(parent1, parent2)\n",
    "        flag = random.choices([1, 2], weights=[abs(mutationProbabality), 1-abs(mutationProbabality)])\n",
    "        if flag[0] == 1:\n",
    "            newChild = mutate(newChild)\n",
    "        newPopulation.append(newChild)\n",
    "    population = newPopulation\n",
    "    if i % 50 == 0:\n",
    "        mutationProbabality = max(mutationProbabality - 0.1, 0)\n",
    "    sorted(population, key = lambda x : getSolutionPoint(x), reverse=True)\n",
    "    averageValues.append(sum(getSolutionPoint(sol) for sol in population) / len(population))    \n",
    "plt.plot(averageValues)"
   ]
  },
  {
   "cell_type": "code",
   "execution_count": 12,
   "metadata": {},
   "outputs": [
    {
     "name": "stdout",
     "output_type": "stream",
     "text": [
      "MazMaz 2.1796330432193685 2.1796330432193685\n",
      "Nani 1.4346813219107548 1.4346813219107548\n",
      "Jooj 6.385685634869877 13.683612074721196\n"
     ]
    }
   ],
   "source": [
    "finalAnswer = findSolution()\n",
    "if finalAnswer[1]:\n",
    "    for item in finalAnswer[0]:\n",
    "        if item.weight != 0:\n",
    "            print(df.iloc[item.key, 0], item.weight, item.value)"
   ]
  },
  {
   "cell_type": "code",
   "execution_count": 13,
   "metadata": {},
   "outputs": [
    {
     "name": "stdout",
     "output_type": "stream",
     "text": [
      "MazMaz 2.1796330432193685 2.1796330432193685\n",
      "Nani 1.4346813219107548 1.4346813219107548\n",
      "Jooj 6.385685634869877 13.683612074721196\n"
     ]
    }
   ],
   "source": [
    "for item in population[0]:\n",
    "    if item.weight != 0:\n",
    "        print(df.iloc[item.key, 0], item.weight, item.value)"
   ]
  }
 ],
 "metadata": {
  "kernelspec": {
   "display_name": "Python 3",
   "language": "python",
   "name": "python3"
  },
  "language_info": {
   "codemirror_mode": {
    "name": "ipython",
    "version": 3
   },
   "file_extension": ".py",
   "mimetype": "text/x-python",
   "name": "python",
   "nbconvert_exporter": "python",
   "pygments_lexer": "ipython3",
   "version": "3.9.12"
  }
 },
 "nbformat": 4,
 "nbformat_minor": 2
}
