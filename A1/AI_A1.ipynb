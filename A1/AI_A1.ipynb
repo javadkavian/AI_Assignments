{
 "cells": [
  {
   "cell_type": "code",
   "execution_count": 1,
   "metadata": {},
   "outputs": [],
   "source": [
    "import pandas as pd\n",
    "import numpy as np\n",
    "import random\n",
    "df = pd.read_csv(\"snacks.csv\")"
   ]
  },
  {
   "cell_type": "markdown",
   "metadata": {},
   "source": [
    "In this assignment, we are implementing Genetic Algorithm for solving knapsack problem.In the following cell, we can moodify constraints of the problem and also change some hyper parameters which are used in the GA such as some probabalites, number of generations, etc.We describe this parameters as follows:\n",
    "\n",
    "\n",
    "1-numberOfSolutions = this is number of answers we generate initially\n",
    "\n",
    "2-numberOfGeneratinos = this the number of times we apply cross over and mutation to our population\n",
    "\n",
    "3-mutationProbabality = each time a new child is created as a result of crossOver, it is mutated with a probabality\n",
    "\n",
    "4-parentPersistanceProb = each time a new child is created as a result of crossOver, there is a likelihood that parent survive in the population and child dies"
   ]
  },
  {
   "cell_type": "code",
   "execution_count": 2,
   "metadata": {},
   "outputs": [],
   "source": [
    "upBound = 19\n",
    "downBound = 19\n",
    "maximumWeight = 80\n",
    "minimumValue = 88.01\n",
    "population = []\n",
    "numberOfSolutions = 1000\n",
    "numberOfGenerations = 300\n",
    "mutationProbabality = 0.3\n",
    "parentPersistenceProb = 0.3"
   ]
  },
  {
   "cell_type": "markdown",
   "metadata": {},
   "source": [
    "At first we need to define chromosom and gene.Each chromosom is a solution to knapsack problem;thus each gene should be a knapsack item which keeps weight and value of a selected snack.The field key is a code which is further used to get name of the snack from csv file"
   ]
  },
  {
   "cell_type": "code",
   "execution_count": 3,
   "metadata": {},
   "outputs": [],
   "source": [
    "class KnapsackItem:\n",
    "    def __init__(self, key_, weight_, value_):\n",
    "        self.key = key_\n",
    "        self.value = value_\n",
    "        self.weight = weight_"
   ]
  },
  {
   "cell_type": "markdown",
   "metadata": {},
   "source": [
    "One important step in GA, is giving a point to each solution.we implement this functionality using fitness function such that it returns a higher number if the solution is a good suit for the problem and lower vice verca.In this problem, we have two parameters that can effect fitness of a solution;One is the total weight of the knapsack items and the other is total value of them.As we have some constraints for this two values, we can also inject these two constraints to get a better fitness.Obviosly it is better to have less weight and more value.The functionality of this idea is implemented in the following cell"
   ]
  },
  {
   "cell_type": "code",
   "execution_count": 4,
   "metadata": {},
   "outputs": [],
   "source": [
    "def fitness(solution_):\n",
    "    weightSum = 0\n",
    "    valueSum = 0\n",
    "    for item in solution_:\n",
    "        weightSum += item.weight\n",
    "        valueSum += item.value\n",
    "    weightDifference = maximumWeight - weightSum\n",
    "    valueDiffernce = valueSum - minimumValue\n",
    "    if weightDifference * valueDiffernce >= 0:\n",
    "        return weightDifference + 0*valueDiffernce\n",
    "    else:\n",
    "        if weightDifference > 0:\n",
    "            return valueDiffernce\n",
    "        else:\n",
    "            return abs(valueDiffernce)\n",
    "\n",
    "    "
   ]
  },
  {
   "cell_type": "markdown",
   "metadata": {},
   "source": [
    "There are two alternatives in selection of parents in GA;One is assigning a selection probabality to each chromosom according to its fitness.The drawback of this method is that the chromosms with low fitnesses get slight chance to be selected as parents, despite having good genes.To solve this problem, there is a second alternative that we rank chromosoms according to their fitnesses and select them according to their indexes such that lower indexes have higher probability of being selected.In this alternative, chromosoms with very low fitnesses also have the chance of being selected.In the following cell, we implemented a function which selects an item from a list randomly according to its index.This function is further used in selecting parents for crossOver operation"
   ]
  },
  {
   "cell_type": "code",
   "execution_count": 5,
   "metadata": {},
   "outputs": [],
   "source": [
    "\n",
    "\n",
    "def weighted_choice(items):\n",
    "    weights = [1 / (i + 1) for i in range(len(items))]\n",
    "    return random.choices(items, weights=weights, k=2)\n",
    "\n"
   ]
  },
  {
   "cell_type": "markdown",
   "metadata": {},
   "source": [
    "The crossOver operation chooses a point randomly and merge two solutions from that point.An important thing to note is that this operation might disregard one of the constraints which is the variety of items.To avoid this problem, we check wether the variety is out of the range or not,if it is, we simply fix it by removing or adding a knapsack item to the solution"
   ]
  },
  {
   "cell_type": "code",
   "execution_count": 6,
   "metadata": {},
   "outputs": [],
   "source": [
    "def crossOver(solution1, solution2):\n",
    "    crossOverPoint = random.randint(1, len(solution1) - 1)\n",
    "    solution_ = solution1[0:crossOverPoint] + solution2[crossOverPoint:]\n",
    "    numberOfNonZeros = 0\n",
    "    for item in solution_:\n",
    "        if item.weight != 0:\n",
    "            numberOfNonZeros += 1\n",
    "    if numberOfNonZeros < downBound:\n",
    "        for i in range(0, downBound - numberOfNonZeros):\n",
    "            for item in solution_:\n",
    "                if item.weight == 0:\n",
    "                    item.weight = min(df.iloc[item.key, 1], abs(np.random.normal(df.iloc[item.key, 1] / 2, 1)))\n",
    "                    item.value = (item.weight / df.iloc[item.key, 1]) * df.iloc[item.key, 2]\n",
    "    elif numberOfNonZeros > upBound:\n",
    "        diffrence = numberOfNonZeros - upBound\n",
    "        while diffrence != 0:\n",
    "            randomIndex = random.randint(0, len(df) - 1)\n",
    "            if solution_[randomIndex].weight != 0:\n",
    "                solution_[randomIndex].weight = 0\n",
    "                solution_[randomIndex].value = 0\n",
    "                diffrence -= 1                \n",
    "    return solution_\n"
   ]
  },
  {
   "cell_type": "markdown",
   "metadata": {},
   "source": [
    "To mutate a chromosom, we check its weight and value and simply upscale or downscale it to fit to the maximum weight.This operation is randomly done with a probablity on some chromosoms"
   ]
  },
  {
   "cell_type": "code",
   "execution_count": 7,
   "metadata": {},
   "outputs": [],
   "source": [
    "def mutate(solution_):\n",
    "    weightSum = 0\n",
    "    for item in solution_:\n",
    "        weightSum += item.weight\n",
    "    if weightSum > maximumWeight and weightSum != 0:\n",
    "        normalizationFactor = weightSum / maximumWeight\n",
    "        for item in solution_:\n",
    "            item.weight = item.weight / normalizationFactor\n",
    "            item.value = item.value / normalizationFactor\n",
    "    elif weightSum < maximumWeight and weightSum != 0:\n",
    "        normalizationFactor = maximumWeight / weightSum\n",
    "        for item in solution_:\n",
    "            item.weight = item.weight * normalizationFactor\n",
    "            item.value = item.value * normalizationFactor\n",
    "    return solution_  "
   ]
  },
  {
   "cell_type": "markdown",
   "metadata": {},
   "source": [
    "Finally we need to search through our population to see wether a solution is found.The below function implements this phase"
   ]
  },
  {
   "cell_type": "code",
   "execution_count": 8,
   "metadata": {},
   "outputs": [],
   "source": [
    "def findSolution():\n",
    "    for j in range(0, numberOfSolutions):\n",
    "        weightSum = 0\n",
    "        valueSum = 0\n",
    "        for item in population[j]:\n",
    "            weightSum += item.weight\n",
    "            valueSum += item.value\n",
    "        if weightSum <= maximumWeight and valueSum >= minimumValue:\n",
    "            return [population[j], True]\n",
    "    return [0, False]              "
   ]
  },
  {
   "cell_type": "markdown",
   "metadata": {},
   "source": [
    "This is where the algorithm begins.We first need to generate some answers randomly.To do so we first choose a random number which satisfies the variety constraint.Then we select items randomly according to number of items;Then for each item we create a weight using normal distribution.One hyper parameter that can be changed here is average and variance of the distribution."
   ]
  },
  {
   "cell_type": "code",
   "execution_count": 9,
   "metadata": {},
   "outputs": [],
   "source": [
    "\n",
    "for i in range(0, numberOfSolutions):\n",
    "    numberOfItems = random.randint(downBound, upBound)\n",
    "    itemsKey = sorted(random.sample(np.arange(len(df)).tolist(), numberOfItems))\n",
    "    solution = []\n",
    "    for j in range(0, len(df)):\n",
    "        if j in itemsKey:\n",
    "            randomWeight = min(df.iloc[j, 1], abs(np.random.normal(df.iloc[j, 1] / 2, 2)))\n",
    "            value = (randomWeight / df.iloc[j, 1])*df.iloc[j, 2]\n",
    "            solution.append(KnapsackItem(j, randomWeight, value))\n",
    "        else:\n",
    "            solution.append(KnapsackItem(j, 0, 0))   \n",
    "    population.append(solution)\n",
    "population = sorted(population, key = lambda x : fitness(x), reverse=True)"
   ]
  },
  {
   "cell_type": "markdown",
   "metadata": {},
   "source": [
    "In this cell, different phases of GA are applied.To see the evolution of algorithm, we store average fitness of every generation and finally plot it to have better sense of how to change hyper parameters for a better suit"
   ]
  },
  {
   "cell_type": "code",
   "execution_count": 10,
   "metadata": {},
   "outputs": [
    {
     "data": {
      "text/plain": [
       "[<matplotlib.lines.Line2D at 0x1d4240fa070>]"
      ]
     },
     "execution_count": 10,
     "metadata": {},
     "output_type": "execute_result"
    },
    {
     "data": {
      "image/png": "[encoded data removed]",
      "text/plain": [
       "<Figure size 640x480 with 1 Axes>"
      ]
     },
     "metadata": {},
     "output_type": "display_data"
    }
   ],
   "source": [
    "import matplotlib.pyplot as plt\n",
    "averageValues = []\n",
    "for i in range(0, numberOfGenerations):\n",
    "    newPopulation = []\n",
    "    for j in range(0, numberOfSolutions):\n",
    "        parent1, parent2 = weighted_choice(population)\n",
    "        newChild = crossOver(parent1, parent2)\n",
    "        flag = random.choices([1, 2], weights=[abs(mutationProbabality), 1-abs(mutationProbabality)])\n",
    "        if flag[0] == 1:\n",
    "            newChild = mutate(newChild)\n",
    "        flag = random.choices([1, 2], [parentPersistenceProb, 1 - parentPersistenceProb])\n",
    "        if flag[0] == 1:\n",
    "                if fitness(parent1) > fitness(parent2):\n",
    "                    newPopulation.append(parent1)\n",
    "                else:\n",
    "                    newPopulation.append(parent2)\n",
    "        else:                  \n",
    "            newPopulation.append(newChild)\n",
    "    population = newPopulation\n",
    "    if i % 50 == 0:\n",
    "        mutationProbabality = max(mutationProbabality - 0.1, 0)\n",
    "    sorted(population, key = lambda x : fitness(x), reverse=True)\n",
    "    averageValues.append(sum(fitness(sol) for sol in population) / len(population))    \n",
    "plt.plot(averageValues)"
   ]
  },
  {
   "cell_type": "markdown",
   "metadata": {},
   "source": [
    "If a solution is found, it will be displayed here:"
   ]
  },
  {
   "cell_type": "code",
   "execution_count": 11,
   "metadata": {},
   "outputs": [],
   "source": [
    "finalAnswer = findSolution()\n",
    "totalWight = 0\n",
    "totalValue = 0\n",
    "if finalAnswer[1]:\n",
    "    for item in finalAnswer[0]:\n",
    "        totalWight += item.weight\n",
    "        totalValue += item.value\n",
    "        if item.weight != 0:\n",
    "            print(df.iloc[item.key, 0], item.weight, item.value)\n",
    "if finalAnswer[1]:            \n",
    "    print(\"total weight : \", totalWight)\n",
    "    print(\"total value : \", totalValue)            "
   ]
  },
  {
   "cell_type": "code",
   "execution_count": 12,
   "metadata": {},
   "outputs": [
    {
     "name": "stdout",
     "output_type": "stream",
     "text": [
      "80.00000000000001\n",
      "81.13281674501485\n"
     ]
    }
   ],
   "source": [
    "wheightsum=0\n",
    "valueSum = 0\n",
    "for item in population[0]:\n",
    "    wheightsum += item.weight\n",
    "    valueSum += item.value\n",
    "\n",
    "print(wheightsum)\n",
    "print(valueSum)"
   ]
  },
  {
   "cell_type": "markdown",
   "metadata": {},
   "source": [
    "-Answers to Questions:\n",
    "\n",
    "1-Low initial population can lead to some problems such as premature convergance(converging to a suboptimal solution too quickly without sufficiently exploring the search space) and limited exploration.High initial population can lead to slower execution and risk of lack of diversity\n",
    "\n",
    "\n",
    "2-Increasing population in every iteration slows the algorithm down as the search space grows.But a larger population tends to improve the precision of the GA. With more individuals, the algorithm explores a broader portion of the search space. \n",
    "\n",
    "3-The GA is all about combining genes with the hope of getting better genes from parents and dropping their worse genes.The crossOver operation is the key operation to combine genes.But there's a likelihood that bad genes of parents be selected.To fix this the mutation comes in handy and tries to improve genes of a generated chromosom.So it is not wise to use only one of them and both of them should be used.\n",
    "\n",
    "4-Generating inital population with less randomness and more porpusefully and trying to maintain constraints during crossOver and mutation operation.\n",
    "\n",
    "5-The reason for which, chromosoms might not change, is that as we go ahead, chromosoms with lower fitnesses get lower likelihood of being selected and crossOver operation takes place only with some repeated chromosoms.To avoid this we can sort the chromsoms according to their fitness and then select them according to their index as described above the function wighted_choice\n",
    "\n",
    "6-We can set a bound for number of generations and monitor the fitness average of population.when it deminishes, it is possibly not going to find any answer and hence should be terminated"
   ]
  }
 ],
 "metadata": {
  "kernelspec": {
   "display_name": "Python 3",
   "language": "python",
   "name": "python3"
  },
  "language_info": {
   "codemirror_mode": {
    "name": "ipython",
    "version": 3
   },
   "file_extension": ".py",
   "mimetype": "text/x-python",
   "name": "python",
   "nbconvert_exporter": "python",
   "pygments_lexer": "ipython3",
   "version": "3.9.12"
  }
 },
 "nbformat": 4,
 "nbformat_minor": 2
}
