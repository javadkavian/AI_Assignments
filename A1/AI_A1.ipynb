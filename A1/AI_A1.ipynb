{
 "cells": [
  {
   "cell_type": "code",
   "execution_count": 1,
   "metadata": {},
   "outputs": [],
   "source": [
    "import pandas as pd\n",
    "import numpy as np\n",
    "import random\n",
    "df = pd.read_csv(\"snacks.csv\")"
   ]
  },
  {
   "cell_type": "code",
   "execution_count": 2,
   "metadata": {},
   "outputs": [],
   "source": [
    "upBound = 5\n",
    "downBound = 1\n",
    "maximumWeight = 10\n",
    "minimumValue = 15\n",
    "population = []\n",
    "numberOfSolutions = 1000\n",
    "numberOfGenerations = 400\n",
    "mutationProbabality = 0.8"
   ]
  },
  {
   "cell_type": "code",
   "execution_count": 3,
   "metadata": {},
   "outputs": [],
   "source": [
    "class KnapsackItem:\n",
    "    def __init__(self, key_, weight_, value_):\n",
    "        self.key = key_\n",
    "        self.value = value_\n",
    "        self.weight = weight_"
   ]
  },
  {
   "cell_type": "code",
   "execution_count": 4,
   "metadata": {},
   "outputs": [],
   "source": [
    "def getSolutionPoint(solution_):\n",
    "    weightSum = 0\n",
    "    valueSum = 0\n",
    "    numberOfNonzeros = 0\n",
    "    for item in solution_:\n",
    "        weightSum += item.weight\n",
    "        valueSum += item.value\n",
    "        if item.weight != 0:\n",
    "            numberOfNonzeros += 1\n",
    "    if weightSum > maximumWeight:\n",
    "        return  maximumWeight - weightSum\n",
    "    else:\n",
    "        return valueSum\n",
    "\n",
    "    "
   ]
  },
  {
   "cell_type": "code",
   "execution_count": 5,
   "metadata": {},
   "outputs": [],
   "source": [
    "\n",
    "\n",
    "def weighted_choice(items):\n",
    "    weights = [1 / (i + 1) for i in range(len(items))]\n",
    "    return random.choices(items, weights=weights, k=2)\n",
    "\n"
   ]
  },
  {
   "cell_type": "code",
   "execution_count": 6,
   "metadata": {},
   "outputs": [],
   "source": [
    "def crossOver(solution1, solution2):\n",
    "    crossOverPoint = random.randint(1, len(solution1) - 1)\n",
    "    solution_ = solution1[0:crossOverPoint] + solution2[crossOverPoint:]\n",
    "    numberOfNonZeros = 0\n",
    "    for item in solution_:\n",
    "        if item.weight != 0:\n",
    "            numberOfNonZeros += 1\n",
    "    if numberOfNonZeros < downBound:\n",
    "        for i in range(0, downBound - numberOfNonZeros):\n",
    "            for item in solution_:\n",
    "                if item.weight == 0:\n",
    "                    item.weight = abs(np.random.normal(df.iloc[item.key, 1] / 2, 2))\n",
    "                    item.value = (item.weight / df.iloc[item.key, 1]) * df.iloc[item.key, 2]\n",
    "    elif numberOfNonZeros > upBound:\n",
    "        diffrence = numberOfNonZeros - upBound\n",
    "        while diffrence != 0:\n",
    "            randomIndex = random.randint(0, len(df) - 1)\n",
    "            if solution_[randomIndex].weight != 0:\n",
    "                solution_[randomIndex].weight = 0\n",
    "                solution_[randomIndex].value = 0\n",
    "                diffrence -= 1                \n",
    "    return solution_\n"
   ]
  },
  {
   "cell_type": "code",
   "execution_count": 7,
   "metadata": {},
   "outputs": [],
   "source": [
    "def mutate(solution_):\n",
    "    numberOfNonZero = 0\n",
    "    weightSum = 0\n",
    "    for item in solution_:\n",
    "        weightSum += item.weight\n",
    "        if item.weight != 0:\n",
    "            numberOfNonZero += 1\n",
    "    if weightSum > maximumWeight and weightSum != 0:\n",
    "        normalizationFactor = weightSum / maximumWeight\n",
    "        for item in solution_:\n",
    "            item.weight = item.weight / normalizationFactor\n",
    "            item.value = item.value / normalizationFactor\n",
    "    elif weightSum < maximumWeight and weightSum != 0:\n",
    "        normalizationFactor = maximumWeight / weightSum\n",
    "        for item in solution_:\n",
    "            item.weight = item.weight * normalizationFactor\n",
    "            item.value = item.value * normalizationFactor\n",
    "    return solution_            \n",
    "\n"
   ]
  },
  {
   "cell_type": "code",
   "execution_count": 8,
   "metadata": {},
   "outputs": [],
   "source": [
    "def findSolution():\n",
    "    for j in range(0, 1000):\n",
    "        weightSum = 0\n",
    "        valueSum = 0\n",
    "        for item in population[j]:\n",
    "            weightSum += item.weight\n",
    "            valueSum += item.value\n",
    "        if weightSum <= maximumWeight and valueSum >= minimumValue:\n",
    "            return [population[j], True]\n",
    "    return [0, False]              "
   ]
  },
  {
   "cell_type": "code",
   "execution_count": 9,
   "metadata": {},
   "outputs": [],
   "source": [
    "\n",
    "for i in range(0, numberOfSolutions):\n",
    "    numberOfItems = random.randint(downBound, upBound)\n",
    "    itemsKey = sorted(random.sample(np.arange(len(df)).tolist(), numberOfItems))\n",
    "    solution = []\n",
    "    for j in range(0, len(df)):\n",
    "        if j in itemsKey:\n",
    "            randomWeight = abs(np.random.normal(df.iloc[j, 1] / 2, 2))\n",
    "            value = (randomWeight / df.iloc[j, 1])*df.iloc[j, 2]\n",
    "            solution.append(KnapsackItem(j, randomWeight, value))\n",
    "        else:\n",
    "            solution.append(KnapsackItem(j, 0, 0))   \n",
    "    population.append(solution)\n",
    "population = sorted(population, key = lambda x : getSolutionPoint(x), reverse=True)"
   ]
  },
  {
   "cell_type": "code",
   "execution_count": 10,
   "metadata": {},
   "outputs": [],
   "source": [
    "for i in range(0, numberOfGenerations):\n",
    "    newPopulation = []\n",
    "    for j in range(0, numberOfSolutions):\n",
    "        parent1, parent2 = weighted_choice(population)\n",
    "        newChild = crossOver(parent1, parent2)\n",
    "        flag = random.choices([1, 2], weights=[abs(mutationProbabality), 1-abs(mutationProbabality)])\n",
    "        if flag[0] == 1:\n",
    "            newChild = mutate(newChild)\n",
    "        newPopulation.append(newChild)\n",
    "    population = newPopulation\n",
    "    if i % 50 == 0:\n",
    "        mutationProbabality -= 0.1\n",
    "    sorted(population, key = lambda x : getSolutionPoint(x), reverse=True)    \n",
    "   \n",
    "        \n"
   ]
  },
  {
   "cell_type": "code",
   "execution_count": 11,
   "metadata": {},
   "outputs": [
    {
     "name": "stdout",
     "output_type": "stream",
     "text": [
      "MazMaz 0.0475457962708084 0.0475457962708084\n",
      "Doogh-e-Abali 0.002639916363844066 0.0017599442425627139\n",
      "Nani 0.012383790677281641 0.012383790677281641\n",
      "Jooj 9.9324982715389 21.283924867583263\n",
      "Hot-Dog 0.00493222514916449 0.0036991688618733653\n"
     ]
    }
   ],
   "source": [
    "finalAnswer = findSolution()\n",
    "if finalAnswer[1]:\n",
    "    for item in finalAnswer[0]:\n",
    "        if item.weight != 0:\n",
    "            print(df.iloc[item.key, 0], item.weight, item.value)"
   ]
  }
 ],
 "metadata": {
  "kernelspec": {
   "display_name": "Python 3",
   "language": "python",
   "name": "python3"
  },
  "language_info": {
   "codemirror_mode": {
    "name": "ipython",
    "version": 3
   },
   "file_extension": ".py",
   "mimetype": "text/x-python",
   "name": "python",
   "nbconvert_exporter": "python",
   "pygments_lexer": "ipython3",
   "version": "3.9.12"
  }
 },
 "nbformat": 4,
 "nbformat_minor": 2
}
